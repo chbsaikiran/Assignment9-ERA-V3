{
  "nbformat": 4,
  "nbformat_minor": 0,
  "metadata": {
    "colab": {
      "provenance": []
    },
    "kernelspec": {
      "name": "python3",
      "display_name": "Python 3"
    },
    "accelerator": "GPU"
  },
  "cells": [
    {
      "cell_type": "code",
      "metadata": {
        "id": "wjO3RK9UEnvF",
        "colab": {
          "base_uri": "https://localhost:8080/"
        },
        "outputId": "094d9d08-476d-4402-8bd8-890add209f58"
      },
      "source": [
        "!git clone https://github.com/chbsaikiran/Assignment9-ERA-V3.git"
      ],
      "execution_count": 1,
      "outputs": [
        {
          "output_type": "stream",
          "name": "stdout",
          "text": [
            "Cloning into 'Assignment9-ERA-V3'...\n",
            "remote: Enumerating objects: 23, done.\u001b[K\n",
            "remote: Counting objects: 100% (23/23), done.\u001b[K\n",
            "remote: Compressing objects: 100% (18/18), done.\u001b[K\n",
            "remote: Total 23 (delta 5), reused 22 (delta 4), pack-reused 0 (from 0)\u001b[K\n",
            "Receiving objects: 100% (23/23), 36.92 KiB | 4.62 MiB/s, done.\n",
            "Resolving deltas: 100% (5/5), done.\n"
          ]
        }
      ]
    },
    {
      "cell_type": "code",
      "source": [
        "%cd Assignment9-ERA-V3"
      ],
      "metadata": {
        "colab": {
          "base_uri": "https://localhost:8080/"
        },
        "id": "aoq1J_OoY_Gv",
        "outputId": "0d0155e6-1aa6-42a5-c15c-b421057541ee"
      },
      "execution_count": 2,
      "outputs": [
        {
          "output_type": "stream",
          "name": "stdout",
          "text": [
            "/content/Assignment9-ERA-V3\n"
          ]
        }
      ]
    },
    {
      "cell_type": "code",
      "source": [
        "!python download_cifar.py"
      ],
      "metadata": {
        "colab": {
          "base_uri": "https://localhost:8080/"
        },
        "id": "3T8642bAtqrx",
        "outputId": "5f99ec3f-02aa-444d-cc56-c78ae58f9a33"
      },
      "execution_count": 3,
      "outputs": [
        {
          "output_type": "stream",
          "name": "stdout",
          "text": [
            "Downloading https://www.cs.toronto.edu/~kriz/cifar-10-python.tar.gz to ./cifar10/cifar-10-python.tar.gz\n",
            "100% 170M/170M [00:03<00:00, 49.1MB/s]\n",
            "Extracting ./cifar10/cifar-10-python.tar.gz to ./cifar10\n",
            "Files already downloaded and verified\n"
          ]
        }
      ]
    },
    {
      "cell_type": "code",
      "source": [
        "%mkdir output"
      ],
      "metadata": {
        "id": "Ea5HUmxtoa8U"
      },
      "execution_count": 4,
      "outputs": []
    },
    {
      "cell_type": "code",
      "source": [
        "!python train.py --model resnet50 --data-path ./data --batch-size 16 --epochs 2 --print-freq 100 --lr 0.1 --opt sgd --weight-decay 1e-4 --lr-scheduler cosineannealinglr --lr-warmup-epochs 5 --lr-warmup-method linear --output-dir ./output --amp --mixup-alpha 0.2 --cutmix-alpha 1.0 --auto-augment ra --label-smoothing 0.1"
      ],
      "metadata": {
        "colab": {
          "base_uri": "https://localhost:8080/"
        },
        "id": "Bs7wPtwpqYeQ",
        "outputId": "9a8a32e8-56e1-4cae-f40a-7ad61e9176d5"
      },
      "execution_count": 9,
      "outputs": [
        {
          "output_type": "stream",
          "name": "stdout",
          "text": [
            "Not using distributed mode\n",
            "Namespace(data_path='./data', model='resnet50', device='cuda', batch_size=16, epochs=2, workers=16, opt='sgd', lr=0.1, momentum=0.9, weight_decay=0.0001, norm_weight_decay=None, bias_weight_decay=None, transformer_embedding_decay=None, label_smoothing=0.1, mixup_alpha=0.2, cutmix_alpha=1.0, lr_scheduler='cosineannealinglr', lr_warmup_epochs=5, lr_warmup_method='linear', lr_warmup_decay=0.01, lr_step_size=30, lr_gamma=0.1, lr_min=0.0, print_freq=100, output_dir='./output', resume='', start_epoch=0, cache_dataset=False, sync_bn=False, test_only=False, auto_augment='ra', ra_magnitude=9, augmix_severity=3, random_erase=0.0, amp=True, world_size=1, dist_url='env://', model_ema=False, model_ema_steps=32, model_ema_decay=0.99998, use_deterministic_algorithms=False, interpolation='bilinear', val_resize_size=256, val_crop_size=224, train_crop_size=224, clip_grad_norm=None, ra_sampler=False, ra_reps=3, weights=None, backend='pil', use_v2=False, distributed=False)\n",
            "Loading data\n",
            "Loading training data\n",
            "Took 0.1182854175567627\n",
            "Loading validation data\n",
            "Creating data loaders\n",
            "/usr/local/lib/python3.10/dist-packages/torch/utils/data/dataloader.py:617: UserWarning: This DataLoader will create 16 worker processes in total. Our suggested max number of worker in current system is 2, which is smaller than what this DataLoader is going to create. Please be aware that excessive worker creation might get DataLoader running slow or even freeze, lower the worker number to avoid potential slowness/freeze if necessary.\n",
            "  warnings.warn(\n",
            "Creating model\n",
            "/content/Assignment9-ERA-V3/train.py:287: FutureWarning: `torch.cuda.amp.GradScaler(args...)` is deprecated. Please use `torch.amp.GradScaler('cuda', args...)` instead.\n",
            "  scaler = torch.cuda.amp.GradScaler() if args.amp else None\n",
            "Start training\n",
            "/content/Assignment9-ERA-V3/train.py:29: FutureWarning: `torch.cuda.amp.autocast(args...)` is deprecated. Please use `torch.amp.autocast('cuda', args...)` instead.\n",
            "  with torch.cuda.amp.autocast(enabled=scaler is not None):\n",
            "Epoch: [0]  [   0/3125]  eta: 7:19:55  lr: 0.001  img/s: 3.570279977785258  loss: 2.5055 (2.5055)  acc1: 6.2500 (6.2500)  acc5: 43.7500 (43.7500)  time: 8.4466  data: 3.9651  max mem: 5432\n",
            "Epoch: [0]  [ 100/3125]  eta: 0:10:12  lr: 0.001  img/s: 152.372621053253  loss: 2.5849 (2.5061)  acc1: 12.5000 (11.3243)  acc5: 56.2500 (51.7946)  time: 0.1670  data: 0.0010  max mem: 5432\n",
            "Epoch: [0]  [ 200/3125]  eta: 0:07:35  lr: 0.001  img/s: 124.84231949087432  loss: 2.7260 (2.5563)  acc1: 6.2500 (11.1629)  acc5: 50.0000 (51.1194)  time: 0.1204  data: 0.0021  max mem: 5432\n",
            "Epoch: [0]  [ 300/3125]  eta: 0:06:45  lr: 0.001  img/s: 152.47336385427198  loss: 2.4697 (2.5311)  acc1: 12.5000 (10.9427)  acc5: 50.0000 (51.8688)  time: 0.1072  data: 0.0009  max mem: 5432\n",
            "Epoch: [0]  [ 400/3125]  eta: 0:06:15  lr: 0.001  img/s: 100.03721310180237  loss: 2.3632 (2.5022)  acc1: 12.5000 (11.8298)  acc5: 56.2500 (53.1951)  time: 0.1031  data: 0.0026  max mem: 5432\n",
            "Epoch: [0]  [ 500/3125]  eta: 0:05:53  lr: 0.001  img/s: 147.4965471465056  loss: 2.4972 (2.4976)  acc1: 12.5000 (12.1756)  acc5: 56.2500 (54.1417)  time: 0.1103  data: 0.0020  max mem: 5432\n",
            "Epoch: [0]  [ 600/3125]  eta: 0:05:34  lr: 0.001  img/s: 239.29591396469158  loss: 2.5023 (2.4890)  acc1: 12.5000 (12.4168)  acc5: 62.5000 (54.6901)  time: 0.1031  data: 0.0023  max mem: 5432\n",
            "Epoch: [0]  [ 700/3125]  eta: 0:05:17  lr: 0.001  img/s: 91.14498015040331  loss: 2.3698 (2.4773)  acc1: 12.5000 (12.8834)  acc5: 56.2500 (55.5367)  time: 0.1671  data: 0.0012  max mem: 5432\n",
            "Epoch: [0]  [ 800/3125]  eta: 0:04:57  lr: 0.001  img/s: 88.60753236190406  loss: 2.3413 (2.4616)  acc1: 12.5000 (13.3427)  acc5: 62.5000 (56.4295)  time: 0.1209  data: 0.0013  max mem: 5432\n",
            "Epoch: [0]  [ 900/3125]  eta: 0:04:42  lr: 0.001  img/s: 166.6592925738382  loss: 2.3029 (2.4489)  acc1: 18.7500 (13.6792)  acc5: 62.5000 (57.1726)  time: 0.1026  data: 0.0014  max mem: 5432\n",
            "Epoch: [0]  [1000/3125]  eta: 0:04:28  lr: 0.001  img/s: 231.9088797965277  loss: 2.2455 (2.4407)  acc1: 18.7500 (13.9923)  acc5: 68.7500 (57.8484)  time: 0.1084  data: 0.0026  max mem: 5432\n",
            "Epoch: [0]  [1100/3125]  eta: 0:04:14  lr: 0.001  img/s: 159.57859694011006  loss: 2.2860 (2.4337)  acc1: 18.7500 (14.2995)  acc5: 68.7500 (58.4696)  time: 0.1031  data: 0.0013  max mem: 5432\n",
            "Epoch: [0]  [1200/3125]  eta: 0:04:01  lr: 0.001  img/s: 175.19609450463386  loss: 2.2618 (2.4269)  acc1: 18.7500 (14.4567)  acc5: 68.7500 (58.9613)  time: 0.1113  data: 0.0024  max mem: 5432\n",
            "Epoch: [0]  [1300/3125]  eta: 0:03:48  lr: 0.001  img/s: 151.47291678892745  loss: 2.2423 (2.4193)  acc1: 18.7500 (14.5849)  acc5: 68.7500 (59.4879)  time: 0.1744  data: 0.0034  max mem: 5432\n",
            "Epoch: [0]  [1400/3125]  eta: 0:03:33  lr: 0.001  img/s: 142.29616593230904  loss: 2.2801 (2.4103)  acc1: 18.7500 (14.8108)  acc5: 68.7500 (59.9929)  time: 0.1184  data: 0.0020  max mem: 5432\n",
            "Epoch: [0]  [1500/3125]  eta: 0:03:20  lr: 0.001  img/s: 141.12138621356775  loss: 2.2519 (2.4034)  acc1: 18.7500 (15.1066)  acc5: 68.7500 (60.4264)  time: 0.1033  data: 0.0015  max mem: 5432\n",
            "Epoch: [0]  [1600/3125]  eta: 0:03:08  lr: 0.001  img/s: 134.12089271545943  loss: 2.2758 (2.3978)  acc1: 18.7500 (15.1624)  acc5: 75.0000 (60.6886)  time: 0.1065  data: 0.0017  max mem: 5432\n",
            "Epoch: [0]  [1700/3125]  eta: 0:02:55  lr: 0.001  img/s: 140.17488005246986  loss: 2.2317 (2.3912)  acc1: 12.5000 (15.3439)  acc5: 62.5000 (61.0229)  time: 0.1073  data: 0.0014  max mem: 5432\n",
            "Epoch: [0]  [1800/3125]  eta: 0:02:43  lr: 0.001  img/s: 235.21714930635878  loss: 2.2370 (2.3846)  acc1: 12.5000 (15.4393)  acc5: 75.0000 (61.4728)  time: 0.1120  data: 0.0024  max mem: 5432\n",
            "Epoch: [0]  [1900/3125]  eta: 0:02:30  lr: 0.001  img/s: 87.73260646468609  loss: 2.2059 (2.3770)  acc1: 18.7500 (15.6135)  acc5: 62.5000 (61.8556)  time: 0.1714  data: 0.0049  max mem: 5432\n",
            "Epoch: [0]  [2000/3125]  eta: 0:02:17  lr: 0.001  img/s: 101.85865828429534  loss: 2.2437 (2.3699)  acc1: 18.7500 (15.7796)  acc5: 68.7500 (62.3063)  time: 0.1121  data: 0.0027  max mem: 5432\n",
            "Epoch: [0]  [2100/3125]  eta: 0:02:05  lr: 0.001  img/s: 194.49025938269816  loss: 2.2524 (2.3651)  acc1: 12.5000 (15.8912)  acc5: 68.7500 (62.6160)  time: 0.1043  data: 0.0012  max mem: 5432\n",
            "Epoch: [0]  [2200/3125]  eta: 0:01:52  lr: 0.001  img/s: 113.78549435047407  loss: 2.2248 (2.3580)  acc1: 25.0000 (16.1489)  acc5: 75.0000 (63.1048)  time: 0.1077  data: 0.0040  max mem: 5432\n",
            "Epoch: [0]  [2300/3125]  eta: 0:01:40  lr: 0.001  img/s: 137.24423793494134  loss: 2.2245 (2.3532)  acc1: 18.7500 (16.2484)  acc5: 75.0000 (63.4724)  time: 0.1046  data: 0.0019  max mem: 5432\n",
            "Epoch: [0]  [2400/3125]  eta: 0:01:28  lr: 0.001  img/s: 153.99711781173986  loss: 2.2860 (2.3489)  acc1: 18.7500 (16.4176)  acc5: 62.5000 (63.7729)  time: 0.1369  data: 0.0067  max mem: 5432\n",
            "Epoch: [0]  [2500/3125]  eta: 0:01:15  lr: 0.001  img/s: 85.0809353863318  loss: 2.2162 (2.3436)  acc1: 18.7500 (16.5284)  acc5: 68.7500 (64.0794)  time: 0.1416  data: 0.0072  max mem: 5432\n",
            "Epoch: [0]  [2600/3125]  eta: 0:01:03  lr: 0.001  img/s: 149.72939373183013  loss: 2.2331 (2.3385)  acc1: 18.7500 (16.6378)  acc5: 68.7500 (64.4368)  time: 0.1068  data: 0.0056  max mem: 5432\n",
            "Epoch: [0]  [2700/3125]  eta: 0:00:51  lr: 0.001  img/s: 236.45867628819482  loss: 2.2459 (2.3345)  acc1: 18.7500 (16.7646)  acc5: 68.7500 (64.7237)  time: 0.0995  data: 0.0025  max mem: 5432\n",
            "Epoch: [0]  [2800/3125]  eta: 0:00:39  lr: 0.001  img/s: 166.36925128850964  loss: 2.1610 (2.3299)  acc1: 18.7500 (16.9158)  acc5: 75.0000 (64.9924)  time: 0.1060  data: 0.0048  max mem: 5432\n",
            "Epoch: [0]  [2900/3125]  eta: 0:00:27  lr: 0.001  img/s: 151.7850229909235  loss: 2.1809 (2.3248)  acc1: 18.7500 (17.0803)  acc5: 75.0000 (65.3094)  time: 0.1059  data: 0.0046  max mem: 5432\n",
            "Epoch: [0]  [3000/3125]  eta: 0:00:15  lr: 0.001  img/s: 168.23522746359353  loss: 2.1440 (2.3203)  acc1: 18.7500 (17.2068)  acc5: 75.0000 (65.5761)  time: 0.1621  data: 0.0063  max mem: 5432\n",
            "Epoch: [0]  [3100/3125]  eta: 0:00:03  lr: 0.001  img/s: 226.57981916524298  loss: 2.2374 (2.3164)  acc1: 18.7500 (17.3170)  acc5: 75.0000 (65.8114)  time: 0.0950  data: 0.0045  max mem: 5432\n",
            "Epoch: [0] Total time: 0:06:15\n",
            "Test:   [  0/625]  eta: 0:34:05  loss: 1.6141 (1.6141)  acc1: 62.5000 (62.5000)  acc5: 87.5000 (87.5000)  time: 3.2728  data: 1.2232  max mem: 5432\n",
            "Test:   [100/625]  eta: 0:00:43  loss: 1.5452 (1.5959)  acc1: 50.0000 (59.2822)  acc5: 100.0000 (94.0594)  time: 0.0512  data: 0.0018  max mem: 5432\n",
            "Test:   [200/625]  eta: 0:00:31  loss: 2.3222 (1.7963)  acc1: 0.0000 (39.8321)  acc5: 50.0000 (86.7848)  time: 0.0705  data: 0.0012  max mem: 5432\n",
            "Test:   [300/625]  eta: 0:00:21  loss: 1.8870 (1.9257)  acc1: 37.5000 (32.8073)  acc5: 87.5000 (80.4194)  time: 0.0524  data: 0.0036  max mem: 5432\n",
            "Test:   [400/625]  eta: 0:00:14  loss: 1.9845 (1.9655)  acc1: 25.0000 (33.2762)  acc5: 81.2500 (81.0162)  time: 0.0611  data: 0.0050  max mem: 5432\n",
            "Test:   [500/625]  eta: 0:00:07  loss: 1.9618 (1.9692)  acc1: 31.2500 (33.0339)  acc5: 93.7500 (82.7096)  time: 0.0520  data: 0.0035  max mem: 5432\n",
            "Test:   [600/625]  eta: 0:00:01  loss: 1.5204 (1.9616)  acc1: 56.2500 (30.9484)  acc5: 100.0000 (83.9850)  time: 0.0512  data: 0.0029  max mem: 5432\n",
            "Test:  Total time: 0:00:38\n",
            "Test:  Acc@1 31.580 Acc@5 84.510\n",
            "Epoch: [1]  [   0/3125]  eta: 3:18:46  lr: 0.0208  img/s: 20.336789726883595  loss: 2.1176 (2.1176)  acc1: 25.0000 (25.0000)  acc5: 87.5000 (87.5000)  time: 3.8165  data: 3.0297  max mem: 5432\n",
            "Epoch: [1]  [ 100/3125]  eta: 0:07:56  lr: 0.0208  img/s: 91.87356800210281  loss: 2.3472 (2.9112)  acc1: 12.5000 (10.7673)  acc5: 50.0000 (51.6708)  time: 0.1490  data: 0.0025  max mem: 5432\n",
            "Epoch: [1]  [ 200/3125]  eta: 0:06:36  lr: 0.0208  img/s: 156.01741770645165  loss: 2.2439 (2.6313)  acc1: 12.5000 (12.4378)  acc5: 68.7500 (55.2239)  time: 0.1041  data: 0.0033  max mem: 5432\n",
            "Epoch: [1]  [ 300/3125]  eta: 0:06:08  lr: 0.0208  img/s: 145.76271834369393  loss: 2.2394 (2.5132)  acc1: 18.7500 (13.7874)  acc5: 68.7500 (58.3056)  time: 0.1042  data: 0.0037  max mem: 5432\n",
            "Epoch: [1]  [ 400/3125]  eta: 0:05:48  lr: 0.0208  img/s: 219.93820257860688  loss: 2.2491 (2.4509)  acc1: 12.5000 (14.0742)  acc5: 62.5000 (60.1621)  time: 0.1033  data: 0.0037  max mem: 5432\n",
            "Epoch: [1]  [ 500/3125]  eta: 0:05:31  lr: 0.0208  img/s: 172.31082718813548  loss: 2.2602 (2.4112)  acc1: 12.5000 (14.3962)  acc5: 62.5000 (61.0654)  time: 0.1376  data: 0.0049  max mem: 5432\n",
            "Epoch: [1]  [ 600/3125]  eta: 0:05:11  lr: 0.0208  img/s: 100.24402536391543  loss: 2.2454 (2.3816)  acc1: 12.5000 (14.7151)  acc5: 62.5000 (62.1672)  time: 0.1390  data: 0.0062  max mem: 5432\n",
            "Epoch: [1]  [ 700/3125]  eta: 0:04:55  lr: 0.0208  img/s: 138.58137844445912  loss: 2.2178 (2.3600)  acc1: 18.7500 (15.1926)  acc5: 62.5000 (62.9636)  time: 0.1066  data: 0.0071  max mem: 5432\n",
            "Epoch: [1]  [ 800/3125]  eta: 0:04:43  lr: 0.0208  img/s: 167.18325697729748  loss: 2.2095 (2.3426)  acc1: 12.5000 (15.3402)  acc5: 75.0000 (63.5690)  time: 0.1060  data: 0.0078  max mem: 5432\n",
            "Epoch: [1]  [ 900/3125]  eta: 0:04:30  lr: 0.0208  img/s: 146.42871107387236  loss: 2.2313 (2.3272)  acc1: 18.7500 (15.6562)  acc5: 62.5000 (64.4007)  time: 0.1035  data: 0.0053  max mem: 5432\n",
            "Epoch: [1]  [1000/3125]  eta: 0:04:17  lr: 0.0208  img/s: 207.678651226411  loss: 2.1969 (2.3148)  acc1: 18.7500 (15.8966)  acc5: 75.0000 (65.0412)  time: 0.1036  data: 0.0055  max mem: 5432\n",
            "Epoch: [1]  [1100/3125]  eta: 0:04:04  lr: 0.0208  img/s: 127.67781496201563  loss: 2.1710 (2.3032)  acc1: 12.5000 (16.2296)  acc5: 81.2500 (65.5313)  time: 0.1663  data: 0.0050  max mem: 5432\n",
            "Epoch: [1]  [1200/3125]  eta: 0:03:50  lr: 0.0208  img/s: 97.60025829383541  loss: 2.1831 (2.2935)  acc1: 18.7500 (16.4498)  acc5: 75.0000 (66.1636)  time: 0.1043  data: 0.0039  max mem: 5432\n",
            "Epoch: [1]  [1300/3125]  eta: 0:03:38  lr: 0.0208  img/s: 232.3963583348628  loss: 2.1284 (2.2848)  acc1: 25.0000 (16.7419)  acc5: 68.7500 (66.6362)  time: 0.1034  data: 0.0059  max mem: 5432\n",
            "Epoch: [1]  [1400/3125]  eta: 0:03:27  lr: 0.0208  img/s: 231.02032779210228  loss: 2.1787 (2.2790)  acc1: 18.7500 (16.8674)  acc5: 75.0000 (66.8986)  time: 0.1030  data: 0.0053  max mem: 5432\n",
            "Epoch: [1]  [1500/3125]  eta: 0:03:14  lr: 0.0208  img/s: 236.32378068105785  loss: 2.1788 (2.2729)  acc1: 18.7500 (17.0303)  acc5: 75.0000 (67.2760)  time: 0.1012  data: 0.0066  max mem: 5432\n",
            "Epoch: [1]  [1600/3125]  eta: 0:03:03  lr: 0.0208  img/s: 196.70673756162762  loss: 2.1704 (2.2676)  acc1: 18.7500 (17.1611)  acc5: 68.7500 (67.5047)  time: 0.1487  data: 0.0101  max mem: 5432\n",
            "Epoch: [1]  [1700/3125]  eta: 0:02:50  lr: 0.0208  img/s: 96.80200906154843  loss: 2.1669 (2.2627)  acc1: 18.7500 (17.3317)  acc5: 68.7500 (67.8755)  time: 0.1368  data: 0.0072  max mem: 5432\n",
            "Epoch: [1]  [1800/3125]  eta: 0:02:37  lr: 0.0208  img/s: 156.9317098152379  loss: 2.2005 (2.2589)  acc1: 18.7500 (17.4313)  acc5: 75.0000 (68.0386)  time: 0.1077  data: 0.0061  max mem: 5432\n",
            "Epoch: [1]  [1900/3125]  eta: 0:02:26  lr: 0.0208  img/s: 149.41735817801694  loss: 2.1738 (2.2552)  acc1: 18.7500 (17.5434)  acc5: 68.7500 (68.2634)  time: 0.1071  data: 0.0062  max mem: 5432\n",
            "Epoch: [1]  [2000/3125]  eta: 0:02:14  lr: 0.0208  img/s: 157.62874994127873  loss: 2.1299 (2.2508)  acc1: 25.0000 (17.7068)  acc5: 75.0000 (68.5001)  time: 0.1003  data: 0.0061  max mem: 5432\n",
            "Epoch: [1]  [2100/3125]  eta: 0:02:02  lr: 0.0208  img/s: 146.27359794241374  loss: 2.1780 (2.2477)  acc1: 18.7500 (17.7832)  acc5: 75.0000 (68.6994)  time: 0.1181  data: 0.0063  max mem: 5432\n",
            "Epoch: [1]  [2200/3125]  eta: 0:01:50  lr: 0.0208  img/s: 128.95457593767955  loss: 2.1539 (2.2442)  acc1: 18.7500 (17.9521)  acc5: 75.0000 (68.9459)  time: 0.1519  data: 0.0072  max mem: 5432\n",
            "Epoch: [1]  [2300/3125]  eta: 0:01:37  lr: 0.0208  img/s: 161.70888534402576  loss: 2.1398 (2.2406)  acc1: 18.7500 (18.0900)  acc5: 75.0000 (69.2444)  time: 0.1014  data: 0.0045  max mem: 5432\n",
            "Epoch: [1]  [2400/3125]  eta: 0:01:26  lr: 0.0208  img/s: 181.4287560389412  loss: 2.2106 (2.2371)  acc1: 12.5000 (18.1695)  acc5: 75.0000 (69.5153)  time: 0.1043  data: 0.0056  max mem: 5432\n",
            "Epoch: [1]  [2500/3125]  eta: 0:01:14  lr: 0.0208  img/s: 183.78437354511846  loss: 2.1633 (2.2348)  acc1: 25.0000 (18.1902)  acc5: 75.0000 (69.6546)  time: 0.1000  data: 0.0063  max mem: 5432\n",
            "Epoch: [1]  [2600/3125]  eta: 0:01:02  lr: 0.0208  img/s: 236.76567880327406  loss: 2.1773 (2.2317)  acc1: 18.7500 (18.3031)  acc5: 68.7500 (69.8698)  time: 0.0984  data: 0.0066  max mem: 5432\n",
            "Epoch: [1]  [2700/3125]  eta: 0:00:50  lr: 0.0208  img/s: 94.98871751029381  loss: 2.1696 (2.2291)  acc1: 18.7500 (18.4052)  acc5: 75.0000 (70.0597)  time: 0.1645  data: 0.0052  max mem: 5432\n",
            "Epoch: [1]  [2800/3125]  eta: 0:00:38  lr: 0.0208  img/s: 162.07913053978987  loss: 2.1569 (2.2257)  acc1: 18.7500 (18.5514)  acc5: 81.2500 (70.2450)  time: 0.1038  data: 0.0056  max mem: 5432\n",
            "Epoch: [1]  [2900/3125]  eta: 0:00:26  lr: 0.0208  img/s: 157.6228262197127  loss: 2.1079 (2.2230)  acc1: 18.7500 (18.6746)  acc5: 81.2500 (70.4477)  time: 0.1034  data: 0.0079  max mem: 5432\n",
            "Epoch: [1]  [3000/3125]  eta: 0:00:14  lr: 0.0208  img/s: 227.69298418234746  loss: 2.1526 (2.2209)  acc1: 25.0000 (18.8291)  acc5: 68.7500 (70.5681)  time: 0.1008  data: 0.0048  max mem: 5432\n",
            "Epoch: [1]  [3100/3125]  eta: 0:00:02  lr: 0.0208  img/s: 234.1526920513742  loss: 2.1669 (2.2180)  acc1: 18.7500 (18.9959)  acc5: 75.0000 (70.7171)  time: 0.0909  data: 0.0039  max mem: 5432\n",
            "Epoch: [1] Total time: 0:06:08\n",
            "Test:   [  0/625]  eta: 0:12:40  loss: 2.0456 (2.0456)  acc1: 12.5000 (12.5000)  acc5: 87.5000 (87.5000)  time: 1.2165  data: 1.0973  max mem: 5432\n",
            "Test:   [100/625]  eta: 0:00:37  loss: 1.3710 (1.7577)  acc1: 81.2500 (42.3267)  acc5: 100.0000 (91.7698)  time: 0.0639  data: 0.0074  max mem: 5432\n",
            "Test:   [200/625]  eta: 0:00:28  loss: 2.0701 (1.8121)  acc1: 25.0000 (47.1704)  acc5: 87.5000 (91.2313)  time: 0.0527  data: 0.0060  max mem: 5432\n",
            "Test:   [300/625]  eta: 0:00:20  loss: 1.9198 (1.8908)  acc1: 6.2500 (36.4203)  acc5: 81.2500 (88.9535)  time: 0.0517  data: 0.0045  max mem: 5432\n",
            "Test:   [400/625]  eta: 0:00:13  loss: 2.1311 (1.9426)  acc1: 25.0000 (32.6839)  acc5: 81.2500 (88.0143)  time: 0.0684  data: 0.0073  max mem: 5432\n",
            "Test:   [500/625]  eta: 0:00:07  loss: 1.9859 (1.9670)  acc1: 37.5000 (32.2605)  acc5: 81.2500 (86.7515)  time: 0.0515  data: 0.0023  max mem: 5432\n",
            "Test:   [600/625]  eta: 0:00:01  loss: 1.6127 (1.9271)  acc1: 18.7500 (32.5603)  acc5: 93.7500 (87.7600)  time: 0.0514  data: 0.0032  max mem: 5432\n",
            "Test:  Total time: 0:00:37\n",
            "Test:  Acc@1 32.210 Acc@5 88.090\n",
            "Training time 0:13:46\n"
          ]
        }
      ]
    },
    {
      "cell_type": "code",
      "source": [
        "import torch\n",
        "print(torch.cuda.device_count())"
      ],
      "metadata": {
        "colab": {
          "base_uri": "https://localhost:8080/"
        },
        "id": "xY5KUjAhuvTS",
        "outputId": "f34c8904-6ac3-47ef-de48-783f00233618"
      },
      "execution_count": null,
      "outputs": [
        {
          "output_type": "stream",
          "name": "stdout",
          "text": [
            "1\n"
          ]
        }
      ]
    }
  ]
}