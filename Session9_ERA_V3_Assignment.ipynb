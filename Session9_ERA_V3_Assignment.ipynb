{
  "nbformat": 4,
  "nbformat_minor": 0,
  "metadata": {
    "colab": {
      "provenance": []
    },
    "kernelspec": {
      "name": "python3",
      "display_name": "Python 3"
    },
    "accelerator": "GPU"
  },
  "cells": [
    {
      "cell_type": "code",
      "metadata": {
        "id": "wjO3RK9UEnvF",
        "colab": {
          "base_uri": "https://localhost:8080/"
        },
        "outputId": "70f7241d-240a-4f43-9435-a0857f5536b9"
      },
      "source": [
        "!git clone https://github.com/chbsaikiran/Assignment9-ERA-V3.git Sai"
      ],
      "execution_count": null,
      "outputs": [
        {
          "output_type": "stream",
          "name": "stdout",
          "text": [
            "Cloning into 'Sai'...\n",
            "remote: Enumerating objects: 58, done.\u001b[K\n",
            "remote: Counting objects: 100% (58/58), done.\u001b[K\n",
            "remote: Compressing objects: 100% (42/42), done.\u001b[K\n",
            "remote: Total 58 (delta 27), reused 46 (delta 15), pack-reused 0 (from 0)\u001b[K\n",
            "Receiving objects: 100% (58/58), 49.90 KiB | 751.00 KiB/s, done.\n",
            "Resolving deltas: 100% (27/27), done.\n"
          ]
        }
      ]
    },
    {
      "cell_type": "code",
      "source": [
        "%cd Sai"
      ],
      "metadata": {
        "colab": {
          "base_uri": "https://localhost:8080/"
        },
        "id": "aoq1J_OoY_Gv",
        "outputId": "63e7c18b-0675-4520-a201-7f20f61339d2"
      },
      "execution_count": null,
      "outputs": [
        {
          "output_type": "stream",
          "name": "stdout",
          "text": [
            "/content/Sai\n"
          ]
        }
      ]
    },
    {
      "cell_type": "code",
      "source": [
        "!python download_cifar.py"
      ],
      "metadata": {
        "colab": {
          "base_uri": "https://localhost:8080/"
        },
        "id": "3T8642bAtqrx",
        "outputId": "d68794ae-2e44-433c-8118-2bdcfeb697d7"
      },
      "execution_count": null,
      "outputs": [
        {
          "output_type": "stream",
          "name": "stdout",
          "text": [
            "Downloading https://www.cs.toronto.edu/~kriz/cifar-10-python.tar.gz to ./cifar10/cifar-10-python.tar.gz\n",
            "100% 170M/170M [00:03<00:00, 44.0MB/s]\n",
            "Extracting ./cifar10/cifar-10-python.tar.gz to ./cifar10\n",
            "Files already downloaded and verified\n"
          ]
        }
      ]
    },
    {
      "cell_type": "code",
      "source": [
        "%mkdir output"
      ],
      "metadata": {
        "id": "Ea5HUmxtoa8U"
      },
      "execution_count": null,
      "outputs": []
    },
    {
      "cell_type": "code",
      "source": [
        "!pip install pytorch-lightning\n",
        "!pip install torchmetrics"
      ],
      "metadata": {
        "colab": {
          "base_uri": "https://localhost:8080/"
        },
        "id": "QRgO0U6iHsil",
        "outputId": "72665a8b-24f7-4d9d-f3d5-f72343d97784"
      },
      "execution_count": null,
      "outputs": [
        {
          "output_type": "stream",
          "name": "stdout",
          "text": [
            "Requirement already satisfied: pytorch-lightning in /usr/local/lib/python3.10/dist-packages (2.5.0.post0)\n",
            "Requirement already satisfied: torch>=2.1.0 in /usr/local/lib/python3.10/dist-packages (from pytorch-lightning) (2.5.1+cu121)\n",
            "Requirement already satisfied: tqdm>=4.57.0 in /usr/local/lib/python3.10/dist-packages (from pytorch-lightning) (4.67.1)\n",
            "Requirement already satisfied: PyYAML>=5.4 in /usr/local/lib/python3.10/dist-packages (from pytorch-lightning) (6.0.2)\n",
            "Requirement already satisfied: fsspec>=2022.5.0 in /usr/local/lib/python3.10/dist-packages (from fsspec[http]>=2022.5.0->pytorch-lightning) (2024.10.0)\n",
            "Requirement already satisfied: torchmetrics>=0.7.0 in /usr/local/lib/python3.10/dist-packages (from pytorch-lightning) (1.6.1)\n",
            "Requirement already satisfied: packaging>=20.0 in /usr/local/lib/python3.10/dist-packages (from pytorch-lightning) (24.2)\n",
            "Requirement already satisfied: typing-extensions>=4.4.0 in /usr/local/lib/python3.10/dist-packages (from pytorch-lightning) (4.12.2)\n",
            "Requirement already satisfied: lightning-utilities>=0.10.0 in /usr/local/lib/python3.10/dist-packages (from pytorch-lightning) (0.11.9)\n",
            "Requirement already satisfied: aiohttp!=4.0.0a0,!=4.0.0a1 in /usr/local/lib/python3.10/dist-packages (from fsspec[http]>=2022.5.0->pytorch-lightning) (3.11.10)\n",
            "Requirement already satisfied: setuptools in /usr/local/lib/python3.10/dist-packages (from lightning-utilities>=0.10.0->pytorch-lightning) (75.1.0)\n",
            "Requirement already satisfied: filelock in /usr/local/lib/python3.10/dist-packages (from torch>=2.1.0->pytorch-lightning) (3.16.1)\n",
            "Requirement already satisfied: networkx in /usr/local/lib/python3.10/dist-packages (from torch>=2.1.0->pytorch-lightning) (3.4.2)\n",
            "Requirement already satisfied: jinja2 in /usr/local/lib/python3.10/dist-packages (from torch>=2.1.0->pytorch-lightning) (3.1.4)\n",
            "Requirement already satisfied: sympy==1.13.1 in /usr/local/lib/python3.10/dist-packages (from torch>=2.1.0->pytorch-lightning) (1.13.1)\n",
            "Requirement already satisfied: mpmath<1.4,>=1.1.0 in /usr/local/lib/python3.10/dist-packages (from sympy==1.13.1->torch>=2.1.0->pytorch-lightning) (1.3.0)\n",
            "Requirement already satisfied: numpy>1.20.0 in /usr/local/lib/python3.10/dist-packages (from torchmetrics>=0.7.0->pytorch-lightning) (1.26.4)\n",
            "Requirement already satisfied: aiohappyeyeballs>=2.3.0 in /usr/local/lib/python3.10/dist-packages (from aiohttp!=4.0.0a0,!=4.0.0a1->fsspec[http]>=2022.5.0->pytorch-lightning) (2.4.4)\n",
            "Requirement already satisfied: aiosignal>=1.1.2 in /usr/local/lib/python3.10/dist-packages (from aiohttp!=4.0.0a0,!=4.0.0a1->fsspec[http]>=2022.5.0->pytorch-lightning) (1.3.2)\n",
            "Requirement already satisfied: async-timeout<6.0,>=4.0 in /usr/local/lib/python3.10/dist-packages (from aiohttp!=4.0.0a0,!=4.0.0a1->fsspec[http]>=2022.5.0->pytorch-lightning) (4.0.3)\n",
            "Requirement already satisfied: attrs>=17.3.0 in /usr/local/lib/python3.10/dist-packages (from aiohttp!=4.0.0a0,!=4.0.0a1->fsspec[http]>=2022.5.0->pytorch-lightning) (24.3.0)\n",
            "Requirement already satisfied: frozenlist>=1.1.1 in /usr/local/lib/python3.10/dist-packages (from aiohttp!=4.0.0a0,!=4.0.0a1->fsspec[http]>=2022.5.0->pytorch-lightning) (1.5.0)\n",
            "Requirement already satisfied: multidict<7.0,>=4.5 in /usr/local/lib/python3.10/dist-packages (from aiohttp!=4.0.0a0,!=4.0.0a1->fsspec[http]>=2022.5.0->pytorch-lightning) (6.1.0)\n",
            "Requirement already satisfied: propcache>=0.2.0 in /usr/local/lib/python3.10/dist-packages (from aiohttp!=4.0.0a0,!=4.0.0a1->fsspec[http]>=2022.5.0->pytorch-lightning) (0.2.1)\n",
            "Requirement already satisfied: yarl<2.0,>=1.17.0 in /usr/local/lib/python3.10/dist-packages (from aiohttp!=4.0.0a0,!=4.0.0a1->fsspec[http]>=2022.5.0->pytorch-lightning) (1.18.3)\n",
            "Requirement already satisfied: MarkupSafe>=2.0 in /usr/local/lib/python3.10/dist-packages (from jinja2->torch>=2.1.0->pytorch-lightning) (3.0.2)\n",
            "Requirement already satisfied: idna>=2.0 in /usr/local/lib/python3.10/dist-packages (from yarl<2.0,>=1.17.0->aiohttp!=4.0.0a0,!=4.0.0a1->fsspec[http]>=2022.5.0->pytorch-lightning) (3.10)\n",
            "Requirement already satisfied: torchmetrics in /usr/local/lib/python3.10/dist-packages (1.6.1)\n",
            "Requirement already satisfied: numpy>1.20.0 in /usr/local/lib/python3.10/dist-packages (from torchmetrics) (1.26.4)\n",
            "Requirement already satisfied: packaging>17.1 in /usr/local/lib/python3.10/dist-packages (from torchmetrics) (24.2)\n",
            "Requirement already satisfied: torch>=2.0.0 in /usr/local/lib/python3.10/dist-packages (from torchmetrics) (2.5.1+cu121)\n",
            "Requirement already satisfied: lightning-utilities>=0.8.0 in /usr/local/lib/python3.10/dist-packages (from torchmetrics) (0.11.9)\n",
            "Requirement already satisfied: setuptools in /usr/local/lib/python3.10/dist-packages (from lightning-utilities>=0.8.0->torchmetrics) (75.1.0)\n",
            "Requirement already satisfied: typing-extensions in /usr/local/lib/python3.10/dist-packages (from lightning-utilities>=0.8.0->torchmetrics) (4.12.2)\n",
            "Requirement already satisfied: filelock in /usr/local/lib/python3.10/dist-packages (from torch>=2.0.0->torchmetrics) (3.16.1)\n",
            "Requirement already satisfied: networkx in /usr/local/lib/python3.10/dist-packages (from torch>=2.0.0->torchmetrics) (3.4.2)\n",
            "Requirement already satisfied: jinja2 in /usr/local/lib/python3.10/dist-packages (from torch>=2.0.0->torchmetrics) (3.1.4)\n",
            "Requirement already satisfied: fsspec in /usr/local/lib/python3.10/dist-packages (from torch>=2.0.0->torchmetrics) (2024.10.0)\n",
            "Requirement already satisfied: sympy==1.13.1 in /usr/local/lib/python3.10/dist-packages (from torch>=2.0.0->torchmetrics) (1.13.1)\n",
            "Requirement already satisfied: mpmath<1.4,>=1.1.0 in /usr/local/lib/python3.10/dist-packages (from sympy==1.13.1->torch>=2.0.0->torchmetrics) (1.3.0)\n",
            "Requirement already satisfied: MarkupSafe>=2.0 in /usr/local/lib/python3.10/dist-packages (from jinja2->torch>=2.0.0->torchmetrics) (3.0.2)\n"
          ]
        }
      ]
    },
    {
      "cell_type": "code",
      "source": [
        "\n",
        "!git pull origin main"
      ],
      "metadata": {
        "colab": {
          "base_uri": "https://localhost:8080/"
        },
        "id": "JRiqZev_Wkuz",
        "outputId": "8f20339a-a04b-43e8-b50d-4c6794505556"
      },
      "execution_count": null,
      "outputs": [
        {
          "output_type": "stream",
          "name": "stdout",
          "text": [
            "remote: Enumerating objects: 11, done.\u001b[K\n",
            "remote: Counting objects:   9% (1/11)\u001b[K\rremote: Counting objects:  18% (2/11)\u001b[K\rremote: Counting objects:  27% (3/11)\u001b[K\rremote: Counting objects:  36% (4/11)\u001b[K\rremote: Counting objects:  45% (5/11)\u001b[K\rremote: Counting objects:  54% (6/11)\u001b[K\rremote: Counting objects:  63% (7/11)\u001b[K\rremote: Counting objects:  72% (8/11)\u001b[K\rremote: Counting objects:  81% (9/11)\u001b[K\rremote: Counting objects:  90% (10/11)\u001b[K\rremote: Counting objects: 100% (11/11)\u001b[K\rremote: Counting objects: 100% (11/11), done.\u001b[K\n",
            "remote: Compressing objects:  33% (1/3)\u001b[K\rremote: Compressing objects:  66% (2/3)\u001b[K\rremote: Compressing objects: 100% (3/3)\u001b[K\rremote: Compressing objects: 100% (3/3), done.\u001b[K\n",
            "remote: Total 7 (delta 4), reused 7 (delta 4), pack-reused 0 (from 0)\u001b[K\n",
            "Unpacking objects:  14% (1/7)\rUnpacking objects:  28% (2/7)\rUnpacking objects:  42% (3/7)\rUnpacking objects:  57% (4/7)\rUnpacking objects:  71% (5/7)\rUnpacking objects:  85% (6/7)\rUnpacking objects: 100% (7/7)\rUnpacking objects: 100% (7/7), 935 bytes | 467.00 KiB/s, done.\n",
            "From https://github.com/chbsaikiran/Assignment9-ERA-V3\n",
            " * branch            main       -> FETCH_HEAD\n",
            "   61f62b0..c826026  main       -> origin/main\n",
            "Updating 61f62b0..c826026\n",
            "Fast-forward\n",
            " copy_and_unzip.sh  |  2 \u001b[32m+\u001b[m\u001b[31m-\u001b[m\n",
            " requirements.txt   | 13 \u001b[32m++++++++++++\u001b[m\u001b[31m-\u001b[m\n",
            " train_lightning.py | 15 \u001b[32m+++\u001b[m\u001b[31m------------\u001b[m\n",
            " 3 files changed, 16 insertions(+), 14 deletions(-)\n"
          ]
        }
      ]
    },
    {
      "cell_type": "code",
      "source": [
        "!python train_lightning.py --model resnet50 --data-path ./data --batch-size 16 --epochs 2 --lr 0.1 --opt sgd --weight-decay 1e-4 --lr-scheduler cosineannealinglr --lr-warmup-epochs 5 --lr-warmup-method linear --output-dir ./output --amp --mixup-alpha 0.2 --cutmix-alpha 1.0 --auto-augment ra --label-smoothing 0.1"
      ],
      "metadata": {
        "colab": {
          "base_uri": "https://localhost:8080/"
        },
        "id": "Bs7wPtwpqYeQ",
        "outputId": "0b1f1a27-a816-45e1-88c4-4da09b7a1148"
      },
      "execution_count": 25,
      "outputs": [
        {
          "output_type": "stream",
          "name": "stdout",
          "text": [
            "Reducing number of workers from 16 to 2\n",
            "Creating new model\n",
            "/usr/local/lib/python3.10/dist-packages/lightning_fabric/connector.py:572: `precision=16` is supported for historical reasons but its usage is discouraged. Please set your precision to 16-mixed instead!\n",
            "Using 16bit Automatic Mixed Precision (AMP)\n",
            "GPU available: True (cuda), used: True\n",
            "TPU available: False, using: 0 TPU cores\n",
            "HPU available: False, using: 0 HPUs\n",
            "Initializing distributed: GLOBAL_RANK: 0, MEMBER: 1/1\n",
            "----------------------------------------------------------------------------------------------------\n",
            "distributed_backend=nccl\n",
            "All distributed processes registered. Starting with 1 processes\n",
            "----------------------------------------------------------------------------------------------------\n",
            "\n",
            "2024-12-27 10:04:38.694573: E external/local_xla/xla/stream_executor/cuda/cuda_fft.cc:485] Unable to register cuFFT factory: Attempting to register factory for plugin cuFFT when one has already been registered\n",
            "2024-12-27 10:04:38.727004: E external/local_xla/xla/stream_executor/cuda/cuda_dnn.cc:8454] Unable to register cuDNN factory: Attempting to register factory for plugin cuDNN when one has already been registered\n",
            "2024-12-27 10:04:38.736808: E external/local_xla/xla/stream_executor/cuda/cuda_blas.cc:1452] Unable to register cuBLAS factory: Attempting to register factory for plugin cuBLAS when one has already been registered\n",
            "2024-12-27 10:04:38.758585: I tensorflow/core/platform/cpu_feature_guard.cc:210] This TensorFlow binary is optimized to use available CPU instructions in performance-critical operations.\n",
            "To enable the following instructions: AVX2 AVX512F FMA, in other operations, rebuild TensorFlow with the appropriate compiler flags.\n",
            "2024-12-27 10:04:40.283644: W tensorflow/compiler/tf2tensorrt/utils/py_utils.cc:38] TF-TRT Warning: Could not find TensorRT\n",
            "/usr/local/lib/python3.10/dist-packages/pytorch_lightning/callbacks/model_checkpoint.py:654: Checkpoint directory /content/Sai/output exists and is not empty.\n",
            "LOCAL_RANK: 0 - CUDA_VISIBLE_DEVICES: [0]\n",
            "\n",
            "  | Name       | Type               | Params | Mode \n",
            "----------------------------------------------------------\n",
            "0 | model      | ResNet             | 23.5 M | train\n",
            "1 | criterion  | CrossEntropyLoss   | 0      | train\n",
            "2 | train_acc1 | MulticlassAccuracy | 0      | train\n",
            "3 | train_acc5 | MulticlassAccuracy | 0      | train\n",
            "4 | val_acc1   | MulticlassAccuracy | 0      | train\n",
            "5 | val_acc5   | MulticlassAccuracy | 0      | train\n",
            "----------------------------------------------------------\n",
            "23.5 M    Trainable params\n",
            "0         Non-trainable params\n",
            "23.5 M    Total params\n",
            "94.114    Total estimated model params size (MB)\n",
            "156       Modules in train mode\n",
            "0         Modules in eval mode\n",
            "Sanity Checking DataLoader 0: 100% 2/2 [00:01<00:00,  1.81it/s]\n",
            "Validation Epoch Results: Acc@1 0.00%  Acc@5 0.00%\n",
            "\n",
            "Epoch 0:   0% 0/3125 [00:00<?, ?it/s] Epoch: [0][0] Loss: 2.3185  Acc@1 12.500  Acc@5 62.500  LR: 0.001000\n",
            "Epoch 0:   3% 100/3125 [00:12<06:31,  7.73it/s, v_num=3]Epoch: [0][100] Loss: 2.7342  Acc@1 12.500  Acc@5 31.250  LR: 0.001000\n",
            "Epoch 0:   6% 200/3125 [00:24<06:04,  8.03it/s, v_num=3]Epoch: [0][200] Loss: 2.3689  Acc@1 12.500  Acc@5 50.000  LR: 0.001000\n",
            "Epoch 0:  10% 300/3125 [00:38<06:01,  7.80it/s, v_num=3]Epoch: [0][300] Loss: 2.8550  Acc@1 6.250  Acc@5 56.250  LR: 0.001000\n",
            "Epoch 0:  13% 400/3125 [00:51<05:49,  7.80it/s, v_num=3]Epoch: [0][400] Loss: 2.3841  Acc@1 25.000  Acc@5 56.250  LR: 0.001000\n",
            "Epoch 0:  16% 500/3125 [01:01<05:24,  8.08it/s, v_num=3]Epoch: [0][500] Loss: 2.5294  Acc@1 12.500  Acc@5 62.500  LR: 0.001000\n",
            "Epoch 0:  19% 600/3125 [01:15<05:17,  7.94it/s, v_num=3]Epoch: [0][600] Loss: 1.9547  Acc@1 37.500  Acc@5 81.250  LR: 0.001000\n",
            "Epoch 0:  22% 700/3125 [01:28<05:06,  7.90it/s, v_num=3]Epoch: [0][700] Loss: 2.1802  Acc@1 12.500  Acc@5 75.000  LR: 0.001000\n",
            "Epoch 0:  26% 800/3125 [01:38<04:47,  8.09it/s, v_num=3]Epoch: [0][800] Loss: 2.3232  Acc@1 31.250  Acc@5 68.750  LR: 0.001000\n",
            "Epoch 0:  29% 900/3125 [01:52<04:37,  8.03it/s, v_num=3]Epoch: [0][900] Loss: 2.1635  Acc@1 18.750  Acc@5 75.000  LR: 0.001000\n",
            "Epoch 0:  32% 1000/3125 [02:05<04:27,  7.95it/s, v_num=3]Epoch: [0][1000] Loss: 1.9673  Acc@1 31.250  Acc@5 81.250  LR: 0.001000\n",
            "Epoch 0:  35% 1100/3125 [02:15<04:09,  8.11it/s, v_num=3]Epoch: [0][1100] Loss: 2.7264  Acc@1 6.250  Acc@5 56.250  LR: 0.001000\n",
            "Epoch 0:  38% 1200/3125 [02:28<03:57,  8.10it/s, v_num=3]Epoch: [0][1200] Loss: 2.2180  Acc@1 12.500  Acc@5 56.250  LR: 0.001000\n",
            "Epoch 0:  42% 1300/3125 [02:41<03:46,  8.06it/s, v_num=3]Epoch: [0][1300] Loss: 1.7633  Acc@1 25.000  Acc@5 93.750  LR: 0.001000\n",
            "Epoch 0:  45% 1400/3125 [02:51<03:31,  8.15it/s, v_num=3]Epoch: [0][1400] Loss: 2.1476  Acc@1 18.750  Acc@5 75.000  LR: 0.001000\n",
            "Epoch 0:  48% 1500/3125 [03:04<03:20,  8.12it/s, v_num=3]Epoch: [0][1500] Loss: 2.2074  Acc@1 25.000  Acc@5 68.750  LR: 0.001000\n",
            "Epoch 0:  51% 1600/3125 [03:17<03:08,  8.08it/s, v_num=3]Epoch: [0][1600] Loss: 2.3070  Acc@1 12.500  Acc@5 93.750  LR: 0.001000\n",
            "Epoch 0:  54% 1700/3125 [03:29<02:55,  8.13it/s, v_num=3]Epoch: [0][1700] Loss: 1.9479  Acc@1 31.250  Acc@5 81.250  LR: 0.001000\n",
            "Epoch 0:  58% 1800/3125 [03:41<02:42,  8.14it/s, v_num=3]Epoch: [0][1800] Loss: 2.3710  Acc@1 25.000  Acc@5 62.500  LR: 0.001000\n",
            "Epoch 0:  61% 1900/3125 [03:54<02:31,  8.11it/s, v_num=3]Epoch: [0][1900] Loss: 2.1717  Acc@1 12.500  Acc@5 75.000  LR: 0.001000\n",
            "Epoch 0:  64% 2000/3125 [04:06<02:18,  8.13it/s, v_num=3]Epoch: [0][2000] Loss: 2.3130  Acc@1 12.500  Acc@5 56.250  LR: 0.001000\n",
            "Epoch 0:  67% 2100/3125 [04:17<02:05,  8.15it/s, v_num=3]Epoch: [0][2100] Loss: 2.0661  Acc@1 31.250  Acc@5 93.750  LR: 0.001000\n",
            "Epoch 0:  70% 2200/3125 [04:30<01:53,  8.12it/s, v_num=3]Epoch: [0][2200] Loss: 1.9912  Acc@1 31.250  Acc@5 81.250  LR: 0.001000\n",
            "Epoch 0:  74% 2300/3125 [04:43<01:41,  8.11it/s, v_num=3]Epoch: [0][2300] Loss: 2.1694  Acc@1 18.750  Acc@5 81.250  LR: 0.001000\n",
            "Epoch 0:  77% 2400/3125 [04:54<01:28,  8.16it/s, v_num=3]Epoch: [0][2400] Loss: 2.1877  Acc@1 25.000  Acc@5 62.500  LR: 0.001000\n",
            "Epoch 0:  80% 2500/3125 [05:07<01:16,  8.12it/s, v_num=3]Epoch: [0][2500] Loss: 2.0715  Acc@1 25.000  Acc@5 81.250  LR: 0.001000\n",
            "Epoch 0:  83% 2600/3125 [05:20<01:04,  8.11it/s, v_num=3]Epoch: [0][2600] Loss: 2.3102  Acc@1 12.500  Acc@5 68.750  LR: 0.001000\n",
            "Epoch 0:  86% 2700/3125 [05:30<00:52,  8.16it/s, v_num=3]Epoch: [0][2700] Loss: 2.0259  Acc@1 25.000  Acc@5 81.250  LR: 0.001000\n",
            "Epoch 0:  90% 2800/3125 [05:44<00:39,  8.14it/s, v_num=3]Epoch: [0][2800] Loss: 2.1537  Acc@1 18.750  Acc@5 62.500  LR: 0.001000\n",
            "Epoch 0:  93% 2900/3125 [05:57<00:27,  8.11it/s, v_num=3]Epoch: [0][2900] Loss: 2.1329  Acc@1 18.750  Acc@5 75.000  LR: 0.001000\n",
            "Epoch 0:  96% 3000/3125 [06:07<00:15,  8.15it/s, v_num=3]Epoch: [0][3000] Loss: 2.1996  Acc@1 12.500  Acc@5 68.750  LR: 0.001000\n",
            "Epoch 0:  99% 3100/3125 [06:21<00:03,  8.14it/s, v_num=3]Epoch: [0][3100] Loss: 2.2459  Acc@1 25.000  Acc@5 62.500  LR: 0.001000\n",
            "Epoch 0: 100% 3125/3125 [06:23<00:00,  8.15it/s, v_num=3]\n",
            "Validation: |          | 0/? [00:00<?, ?it/s]\u001b[A\n",
            "Validation:   0% 0/625 [00:00<?, ?it/s]      \u001b[A\n",
            "Validation DataLoader 0:   0% 0/625 [00:00<?, ?it/s]\u001b[A\n",
            "Validation DataLoader 0:   3% 20/625 [00:00<00:29, 20.68it/s]\u001b[A\n",
            "Validation DataLoader 0:   6% 40/625 [00:02<00:33, 17.65it/s]\u001b[A\n",
            "Validation DataLoader 0:  10% 60/625 [00:03<00:35, 15.73it/s]\u001b[A\n",
            "Validation DataLoader 0:  13% 80/625 [00:05<00:36, 14.73it/s]\u001b[A\n",
            "Validation DataLoader 0:  16% 100/625 [00:07<00:38, 13.78it/s]\u001b[A\n",
            "Validation DataLoader 0:  19% 120/625 [00:09<00:38, 13.26it/s]\u001b[A\n",
            "Validation DataLoader 0:  22% 140/625 [00:10<00:35, 13.78it/s]\u001b[A\n",
            "Validation DataLoader 0:  26% 160/625 [00:11<00:32, 14.45it/s]\u001b[A\n",
            "Validation DataLoader 0:  29% 180/625 [00:12<00:29, 14.91it/s]\u001b[A\n",
            "Validation DataLoader 0:  32% 200/625 [00:12<00:27, 15.39it/s]\u001b[A\n",
            "Validation DataLoader 0:  35% 220/625 [00:14<00:25, 15.70it/s]\u001b[A\n",
            "Validation DataLoader 0:  38% 240/625 [00:14<00:23, 16.08it/s]\u001b[A\n",
            "Validation DataLoader 0:  42% 260/625 [00:15<00:22, 16.39it/s]\u001b[A\n",
            "Validation DataLoader 0:  45% 280/625 [00:16<00:20, 16.68it/s]\u001b[A\n",
            "Validation DataLoader 0:  48% 300/625 [00:17<00:19, 16.94it/s]\u001b[A\n",
            "Validation DataLoader 0:  51% 320/625 [00:18<00:17, 17.16it/s]\u001b[A\n",
            "Validation DataLoader 0:  54% 340/625 [00:19<00:16, 17.35it/s]\u001b[A\n",
            "Validation DataLoader 0:  58% 360/625 [00:21<00:15, 17.03it/s]\u001b[A\n",
            "Validation DataLoader 0:  61% 380/625 [00:22<00:14, 16.70it/s]\u001b[A\n",
            "Validation DataLoader 0:  64% 400/625 [00:24<00:13, 16.40it/s]\u001b[A\n",
            "Validation DataLoader 0:  67% 420/625 [00:26<00:12, 16.09it/s]\u001b[A\n",
            "Validation DataLoader 0:  70% 440/625 [00:27<00:11, 16.23it/s]\u001b[A\n",
            "Validation DataLoader 0:  74% 460/625 [00:27<00:10, 16.43it/s]\u001b[A\n",
            "Validation DataLoader 0:  77% 480/625 [00:28<00:08, 16.58it/s]\u001b[A\n",
            "Validation DataLoader 0:  80% 500/625 [00:29<00:07, 16.73it/s]\u001b[A\n",
            "Validation DataLoader 0:  83% 520/625 [00:30<00:06, 16.88it/s]\u001b[A\n",
            "Validation DataLoader 0:  86% 540/625 [00:31<00:04, 17.02it/s]\u001b[A\n",
            "Validation DataLoader 0:  90% 560/625 [00:32<00:03, 17.16it/s]\u001b[A\n",
            "Validation DataLoader 0:  93% 580/625 [00:33<00:02, 17.26it/s]\u001b[A\n",
            "Validation DataLoader 0:  96% 600/625 [00:34<00:01, 17.37it/s]\u001b[A\n",
            "Validation DataLoader 0:  99% 620/625 [00:35<00:00, 17.48it/s]\u001b[A\n",
            "Validation DataLoader 0: 100% 625/625 [00:35<00:00, 17.54it/s]\u001b[A\n",
            "Validation Epoch Results: Acc@1 33.00%  Acc@5 86.67%\n",
            "\n",
            "\n",
            "Epoch 1:   0% 0/3125 [00:00<?, ?it/s, v_num=3]Epoch: [1][0] Loss: 1.9878  Acc@1 31.250  Acc@5 87.500  LR: 0.020800\n",
            "Epoch 1:   3% 100/3125 [00:13<06:54,  7.30it/s, v_num=3]Epoch: [1][100] Loss: 2.1590  Acc@1 25.000  Acc@5 56.250  LR: 0.020800\n",
            "Epoch 1:   6% 200/3125 [00:26<06:33,  7.44it/s, v_num=3]Epoch: [1][200] Loss: 2.1122  Acc@1 25.000  Acc@5 81.250  LR: 0.020800\n",
            "Epoch 1:  10% 300/3125 [00:37<05:54,  7.97it/s, v_num=3]Epoch: [1][300] Loss: 2.2684  Acc@1 12.500  Acc@5 75.000  LR: 0.020800\n",
            "Epoch 1:  13% 400/3125 [00:50<05:45,  7.89it/s, v_num=3]Epoch: [1][400] Loss: 2.1887  Acc@1 18.750  Acc@5 87.500  LR: 0.020800\n",
            "Epoch 1:  16% 500/3125 [01:04<05:36,  7.79it/s, v_num=3]Epoch: [1][500] Loss: 2.1847  Acc@1 12.500  Acc@5 62.500  LR: 0.020800\n",
            "Epoch 1:  19% 600/3125 [01:15<05:17,  7.95it/s, v_num=3]Epoch: [1][600] Loss: 2.2864  Acc@1 25.000  Acc@5 62.500  LR: 0.020800\n",
            "Epoch 1:  22% 700/3125 [01:27<05:03,  8.00it/s, v_num=3]Epoch: [1][700] Loss: 2.1481  Acc@1 18.750  Acc@5 81.250  LR: 0.020800\n",
            "Epoch 1:  26% 800/3125 [01:41<04:53,  7.91it/s, v_num=3]Epoch: [1][800] Loss: 2.0964  Acc@1 18.750  Acc@5 75.000  LR: 0.020800\n",
            "Epoch 1:  29% 900/3125 [01:52<04:38,  7.98it/s, v_num=3]Epoch: [1][900] Loss: 2.0578  Acc@1 18.750  Acc@5 68.750  LR: 0.020800\n",
            "Epoch 1:  32% 1000/3125 [02:04<04:24,  8.03it/s, v_num=3]Epoch: [1][1000] Loss: 1.9943  Acc@1 37.500  Acc@5 87.500  LR: 0.020800\n",
            "Epoch 1:  35% 1100/3125 [02:18<04:14,  7.96it/s, v_num=3]Epoch: [1][1100] Loss: 2.1219  Acc@1 12.500  Acc@5 75.000  LR: 0.020800\n",
            "Epoch 1:  38% 1200/3125 [02:30<04:01,  7.98it/s, v_num=3]Epoch: [1][1200] Loss: 2.0911  Acc@1 18.750  Acc@5 62.500  LR: 0.020800\n",
            "Epoch 1:  42% 1300/3125 [02:41<03:47,  8.03it/s, v_num=3]Epoch: [1][1300] Loss: 1.9805  Acc@1 37.500  Acc@5 81.250  LR: 0.020800\n",
            "Epoch 1:  45% 1400/3125 [02:55<03:36,  7.98it/s, v_num=3]Epoch: [1][1400] Loss: 2.4082  Acc@1 18.750  Acc@5 56.250  LR: 0.020800\n",
            "Epoch 1:  48% 1500/3125 [03:07<03:23,  7.99it/s, v_num=3]Epoch: [1][1500] Loss: 2.1583  Acc@1 25.000  Acc@5 68.750  LR: 0.020800\n",
            "Epoch 1:  51% 1600/3125 [03:18<03:09,  8.05it/s, v_num=3]Epoch: [1][1600] Loss: 2.1149  Acc@1 6.250  Acc@5 75.000  LR: 0.020800\n",
            "Epoch 1:  54% 1700/3125 [03:32<02:57,  8.02it/s, v_num=3]Epoch: [1][1700] Loss: 2.2809  Acc@1 12.500  Acc@5 56.250  LR: 0.020800\n",
            "Epoch 1:  58% 1800/3125 [03:44<02:45,  8.00it/s, v_num=3]Epoch: [1][1800] Loss: 1.9828  Acc@1 43.750  Acc@5 81.250  LR: 0.020800\n",
            "Epoch 1:  61% 1900/3125 [03:55<02:31,  8.06it/s, v_num=3]Epoch: [1][1900] Loss: 2.0579  Acc@1 25.000  Acc@5 93.750  LR: 0.020800\n",
            "Epoch 1:  64% 2000/3125 [04:09<02:20,  8.03it/s, v_num=3]Epoch: [1][2000] Loss: 1.8839  Acc@1 31.250  Acc@5 93.750  LR: 0.020800\n",
            "Epoch 1:  67% 2100/3125 [04:22<02:08,  8.00it/s, v_num=3]Epoch: [1][2100] Loss: 2.0146  Acc@1 31.250  Acc@5 81.250  LR: 0.020800\n",
            "Epoch 1:  70% 2200/3125 [04:32<01:54,  8.07it/s, v_num=3]Epoch: [1][2200] Loss: 2.1919  Acc@1 18.750  Acc@5 68.750  LR: 0.020800\n",
            "Epoch 1:  74% 2300/3125 [04:46<01:42,  8.04it/s, v_num=3]Epoch: [1][2300] Loss: 1.9734  Acc@1 31.250  Acc@5 87.500  LR: 0.020800\n",
            "Epoch 1:  77% 2400/3125 [04:59<01:30,  8.02it/s, v_num=3]Epoch: [1][2400] Loss: 2.1136  Acc@1 12.500  Acc@5 68.750  LR: 0.020800\n",
            "Epoch 1:  80% 2500/3125 [05:09<01:17,  8.07it/s, v_num=3]Epoch: [1][2500] Loss: 1.9915  Acc@1 18.750  Acc@5 100.000  LR: 0.020800\n",
            "Epoch 1:  83% 2600/3125 [05:22<01:05,  8.06it/s, v_num=3]Epoch: [1][2600] Loss: 2.1157  Acc@1 25.000  Acc@5 81.250  LR: 0.020800\n",
            "Epoch 1:  86% 2700/3125 [05:35<00:52,  8.04it/s, v_num=3]Epoch: [1][2700] Loss: 2.2428  Acc@1 12.500  Acc@5 62.500  LR: 0.020800\n",
            "Epoch 1:  90% 2800/3125 [05:47<00:40,  8.07it/s, v_num=3]Epoch: [1][2800] Loss: 2.0521  Acc@1 25.000  Acc@5 87.500  LR: 0.020800\n",
            "Epoch 1:  93% 2900/3125 [05:59<00:27,  8.06it/s, v_num=3]Epoch: [1][2900] Loss: 1.9619  Acc@1 25.000  Acc@5 93.750  LR: 0.020800\n",
            "Epoch 1:  96% 3000/3125 [06:13<00:15,  8.04it/s, v_num=3]Epoch: [1][3000] Loss: 2.2001  Acc@1 25.000  Acc@5 56.250  LR: 0.020800\n",
            "Epoch 1:  99% 3100/3125 [06:25<00:03,  8.04it/s, v_num=3]Epoch: [1][3100] Loss: 1.8487  Acc@1 31.250  Acc@5 93.750  LR: 0.020800\n",
            "Epoch 1: 100% 3125/3125 [06:29<00:00,  8.03it/s, v_num=3]\n",
            "Validation: |          | 0/? [00:00<?, ?it/s]\u001b[A\n",
            "Validation:   0% 0/625 [00:00<?, ?it/s]      \u001b[A\n",
            "Validation DataLoader 0:   0% 0/625 [00:00<?, ?it/s]\u001b[A\n",
            "Validation DataLoader 0:   3% 20/625 [00:00<00:27, 21.91it/s]\u001b[A\n",
            "Validation DataLoader 0:   6% 40/625 [00:01<00:27, 20.99it/s]\u001b[A\n",
            "Validation DataLoader 0:  10% 60/625 [00:02<00:26, 21.21it/s]\u001b[A\n",
            "Validation DataLoader 0:  13% 80/625 [00:03<00:25, 21.12it/s]\u001b[A\n",
            "Validation DataLoader 0:  16% 100/625 [00:04<00:24, 21.29it/s]\u001b[A\n",
            "Validation DataLoader 0:  19% 120/625 [00:05<00:23, 21.22it/s]\u001b[A\n",
            "Validation DataLoader 0:  22% 140/625 [00:06<00:22, 21.23it/s]\u001b[A\n",
            "Validation DataLoader 0:  26% 160/625 [00:07<00:21, 21.18it/s]\u001b[A\n",
            "Validation DataLoader 0:  29% 180/625 [00:08<00:21, 21.17it/s]\u001b[A\n",
            "Validation DataLoader 0:  32% 200/625 [00:09<00:21, 20.16it/s]\u001b[A\n",
            "Validation DataLoader 0:  35% 220/625 [00:11<00:21, 18.91it/s]\u001b[A\n",
            "Validation DataLoader 0:  38% 240/625 [00:13<00:21, 17.94it/s]\u001b[A\n",
            "Validation DataLoader 0:  42% 260/625 [00:15<00:21, 17.16it/s]\u001b[A\n",
            "Validation DataLoader 0:  45% 280/625 [00:16<00:20, 16.63it/s]\u001b[A\n",
            "Validation DataLoader 0:  48% 300/625 [00:17<00:19, 16.88it/s]\u001b[A\n",
            "Validation DataLoader 0:  51% 320/625 [00:18<00:17, 17.11it/s]\u001b[A\n",
            "Validation DataLoader 0:  54% 340/625 [00:19<00:16, 17.32it/s]\u001b[A\n",
            "Validation DataLoader 0:  58% 360/625 [00:20<00:15, 17.50it/s]\u001b[A\n",
            "Validation DataLoader 0:  61% 380/625 [00:21<00:13, 17.73it/s]\u001b[A\n",
            "Validation DataLoader 0:  64% 400/625 [00:22<00:12, 17.87it/s]\u001b[A\n",
            "Validation DataLoader 0:  67% 420/625 [00:23<00:11, 18.01it/s]\u001b[A\n",
            "Validation DataLoader 0:  70% 440/625 [00:24<00:10, 18.11it/s]\u001b[A\n",
            "Validation DataLoader 0:  74% 460/625 [00:25<00:09, 18.22it/s]\u001b[A\n",
            "Validation DataLoader 0:  77% 480/625 [00:26<00:07, 18.29it/s]\u001b[A\n",
            "Validation DataLoader 0:  80% 500/625 [00:27<00:06, 18.22it/s]\u001b[A\n",
            "Validation DataLoader 0:  83% 520/625 [00:28<00:05, 17.93it/s]\u001b[A\n",
            "Validation DataLoader 0:  86% 540/625 [00:30<00:04, 17.71it/s]\u001b[A\n",
            "Validation DataLoader 0:  90% 560/625 [00:32<00:03, 17.32it/s]\u001b[A\n",
            "Validation DataLoader 0:  93% 580/625 [00:34<00:02, 16.98it/s]\u001b[A\n",
            "Validation DataLoader 0:  96% 600/625 [00:35<00:01, 17.03it/s]\u001b[A\n",
            "Validation DataLoader 0:  99% 620/625 [00:36<00:00, 17.13it/s]\u001b[A\n",
            "Validation DataLoader 0: 100% 625/625 [00:36<00:00, 17.20it/s]\u001b[A\n",
            "Validation Epoch Results: Acc@1 40.04%  Acc@5 88.69%\n",
            "\n",
            "\n",
            "Epoch 1: 100% 3125/3125 [07:05<00:00,  7.34it/s, v_num=3]`Trainer.fit` stopped: `max_epochs=2` reached.\n",
            "Epoch 1: 100% 3125/3125 [07:06<00:00,  7.33it/s, v_num=3]\n"
          ]
        }
      ]
    }
  ]
}